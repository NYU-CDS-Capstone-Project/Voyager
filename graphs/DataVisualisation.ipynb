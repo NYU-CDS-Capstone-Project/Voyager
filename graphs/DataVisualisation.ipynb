{
 "cells": [
  {
   "cell_type": "code",
   "execution_count": 4,
   "metadata": {},
   "outputs": [
    {
     "name": "stdout",
     "output_type": "stream",
     "text": [
      "The cython extension is already loaded. To reload it, use:\n",
      "  %reload_ext cython\n"
     ]
    }
   ],
   "source": [
    "import copy\n",
    "# from rootpy.vector import LorentzVector\n",
    "# from recnn.preprocessing import _pt\n",
    "\n",
    "import sys\n",
    "sys.path.append(\"..\")\n",
    "%load_ext cython\n",
    "import pickle\n",
    "import numpy as np\n",
    "import io\n",
    "fd = io.open(\"../code/data/w-vs-qcd/pickles/raw/antikt-antikt-test.pickle\", \"rb\")\n",
    "\n",
    "\n",
    "X, y = pickle.load(fd)\n",
    "fd.close()"
   ]
  },
  {
   "cell_type": "code",
   "execution_count": 5,
   "metadata": {},
   "outputs": [
    {
     "name": "stderr",
     "output_type": "stream",
     "text": [
      "IOPub data rate exceeded.\n",
      "The notebook server will temporarily stop sending output\n",
      "to the client in order to avoid crashing it.\n",
      "To change this limit, set the config variable\n",
      "`--NotebookApp.iopub_data_rate_limit`.\n"
     ]
    }
   ],
   "source": [
    "X"
   ]
  },
  {
   "cell_type": "code",
   "execution_count": null,
   "metadata": {
    "collapsed": true
   },
   "outputs": [],
   "source": []
  },
  {
   "cell_type": "code",
   "execution_count": 7,
   "metadata": {
    "collapsed": true
   },
   "outputs": [],
   "source": [
    "fd = open(\"../code/data/w-vs-qcd/pickles/event/antikt-kt-train.pickle\", \"rb\")"
   ]
  },
  {
   "cell_type": "code",
   "execution_count": 8,
   "metadata": {},
   "outputs": [
    {
     "ename": "ImportError",
     "evalue": "No module named rootpy.vector",
     "output_type": "error",
     "traceback": [
      "\u001b[0;31m---------------------------------------------------------------------------\u001b[0m",
      "\u001b[0;31mImportError\u001b[0m                               Traceback (most recent call last)",
      "\u001b[0;32m<ipython-input-8-7e6acb3178ed>\u001b[0m in \u001b[0;36m<module>\u001b[0;34m()\u001b[0m\n\u001b[1;32m      4\u001b[0m \u001b[0;34m\u001b[0m\u001b[0m\n\u001b[1;32m      5\u001b[0m \u001b[0mplt\u001b[0m\u001b[0;34m.\u001b[0m\u001b[0mrcParams\u001b[0m\u001b[0;34m[\u001b[0m\u001b[0;34m\"figure.figsize\"\u001b[0m\u001b[0;34m]\u001b[0m \u001b[0;34m=\u001b[0m \u001b[0;34m(\u001b[0m\u001b[0;36m6\u001b[0m\u001b[0;34m,\u001b[0m\u001b[0;36m6\u001b[0m\u001b[0;34m)\u001b[0m\u001b[0;34m\u001b[0m\u001b[0m\n\u001b[0;32m----> 6\u001b[0;31m \u001b[0;32mfrom\u001b[0m \u001b[0mrootpy\u001b[0m\u001b[0;34m.\u001b[0m\u001b[0mvector\u001b[0m \u001b[0;32mimport\u001b[0m \u001b[0mLorentzVector\u001b[0m\u001b[0;34m\u001b[0m\u001b[0m\n\u001b[0m",
      "\u001b[0;31mImportError\u001b[0m: No module named rootpy.vector"
     ]
    }
   ],
   "source": [
    "%matplotlib inline\n",
    "import matplotlib.pyplot as plt\n",
    "from matplotlib.colors import LogNorm\n",
    "\n",
    "plt.rcParams[\"figure.figsize\"] = (6,6)\n",
    "from rootpy.vector import LorentzVector\n"
   ]
  },
  {
   "cell_type": "code",
   "execution_count": null,
   "metadata": {
    "collapsed": true
   },
   "outputs": [],
   "source": [
    "a = []\n",
    "\n",
    "for j in X[10000:]:\n",
    "    constituents = j[\"content\"][j[\"tree\"][:, 0] == -1]\n",
    "    a.append(np.array([[LorentzVector(c).eta(), \n",
    "                        LorentzVector(c).phi()] for c in constituents]))\n",
    "    \n",
    "a = np.vstack(a)\n",
    "\n",
    "plt.hist2d(a[:, 0], a[:, 1], range=[(-2,2), (-2,2)], \n",
    "           bins=50, cmap=\"hsv\", norm=LogNorm())\n",
    "plt.show()\n",
    "\n",
    "a = []\n",
    "\n",
    "for j in X[:10000]:\n",
    "    constituents = j[\"content\"][j[\"tree\"][:, 0] == -1]\n",
    "    a.append(np.array([[LorentzVector(c).eta(), \n",
    "                        LorentzVector(c).phi()] for c in constituents]))\n",
    "    \n",
    "a = np.vstack(a)\n",
    "\n",
    "plt.hist2d(a[:, 0], a[:, 1], range=[(-2,2), (-2,2)], \n",
    "           bins=50, cmap=\"hsv\", norm=LogNorm())\n",
    "plt.show()"
   ]
  },
  {
   "cell_type": "code",
   "execution_count": null,
   "metadata": {},
   "outputs": [],
   "source": [
    "data = io.open(\"../data/events/antikt-kt-test.pickle\", \"rb\")\n",
    "event, y = pickle.load(data,encoding='latin1')\n",
    "data.close()\n",
    "mass0 = []\n",
    "mass1 = []\n",
    "mass2 = []\n",
    "mass3 = []\n",
    "\n",
    "for i in range(10000):\n",
    "    event, y = pickle.load(data)\n",
    "    \n",
    "    if y == 0:\n",
    "        mass0.append(event[0][3])\n",
    "        mass1.append(event[1][3])\n",
    "        mass2.append(event[2][3])\n",
    "        mass3.append(event[3][3])\n",
    "    \n",
    "data.close()\n",
    "%matplotlib inline\n",
    "import matplotlib.pyplot as plt\n",
    "\n",
    "plt.hist(mass0, histtype=\"step\", bins=50, range=(0, 200), label=\"mass jet1\", normed=1)\n",
    "plt.hist(mass1, histtype=\"step\", bins=50, range=(0, 200), label=\"mass jet2\", normed=1)\n",
    "plt.hist(mass2, histtype=\"step\", bins=50, range=(0, 200), label=\"mass jet3\", normed=1)\n",
    "plt.hist(mass3, histtype=\"step\", bins=50, range=(0, 200), label=\"mass jet4\", normed=1)\n",
    "plt.legend()\n",
    "plt.title(\"background\")\n",
    "plt.show()"
   ]
  },
  {
   "cell_type": "code",
   "execution_count": null,
   "metadata": {
    "collapsed": true
   },
   "outputs": [],
   "source": []
  }
 ],
 "metadata": {
  "anaconda-cloud": {},
  "kernelspec": {
   "display_name": "Python [py27]",
   "language": "python",
   "name": "Python [py27]"
  },
  "language_info": {
   "codemirror_mode": {
    "name": "ipython",
    "version": 2
   },
   "file_extension": ".py",
   "mimetype": "text/x-python",
   "name": "python",
   "nbconvert_exporter": "python",
   "pygments_lexer": "ipython2",
   "version": "2.7.13"
  }
 },
 "nbformat": 4,
 "nbformat_minor": 2
}
